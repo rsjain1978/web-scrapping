{
 "cells": [
  {
   "cell_type": "code",
   "execution_count": 37,
   "metadata": {},
   "outputs": [
    {
     "name": "stdout",
     "output_type": "stream",
     "text": [
      "starting scraping of 2 IP\n"
     ]
    }
   ],
   "source": []
  },
  {
   "cell_type": "code",
   "execution_count": 89,
   "metadata": {},
   "outputs": [
    {
     "name": "stdout",
     "output_type": "stream",
     "text": [
      "starting resolving of 5 IP\n",
      "<class 'list'>\n",
      "already resolved, ignoring\n",
      "already resolved, ignoring\n",
      "already resolved, ignoring\n",
      "already resolved, ignoring\n",
      "already resolved, ignoring\n"
     ]
    },
    {
     "data": {
      "text/html": [
       "<div>\n",
       "<style scoped>\n",
       "    .dataframe tbody tr th:only-of-type {\n",
       "        vertical-align: middle;\n",
       "    }\n",
       "\n",
       "    .dataframe tbody tr th {\n",
       "        vertical-align: top;\n",
       "    }\n",
       "\n",
       "    .dataframe thead th {\n",
       "        text-align: right;\n",
       "    }\n",
       "</style>\n",
       "<table border=\"1\" class=\"dataframe\">\n",
       "  <thead>\n",
       "    <tr style=\"text-align: right;\">\n",
       "      <th></th>\n",
       "      <th>IP</th>\n",
       "      <th>ISP</th>\n",
       "      <th>ISP-ORG</th>\n",
       "      <th>Resolved</th>\n",
       "    </tr>\n",
       "  </thead>\n",
       "  <tbody>\n",
       "  </tbody>\n",
       "</table>\n",
       "</div>"
      ],
      "text/plain": [
       "Empty DataFrame\n",
       "Columns: [IP, ISP, ISP-ORG, Resolved]\n",
       "Index: []"
      ]
     },
     "execution_count": 89,
     "metadata": {},
     "output_type": "execute_result"
    }
   ],
   "source": [
    "import json\n",
    "import requests\n",
    "import pandas as pd\n",
    "import numpy as np\n",
    "\n",
    "def read_IPs_to_resolve():\n",
    "    ip_file = pd.read_csv('isps.csv')    \n",
    "    return ip_file['ip_address']\n",
    "    \n",
    "\n",
    "def resolve_isps(ips_to_resolve):\n",
    "\n",
    "    print ('starting resolving of %d IP'%(len(ips_to_be_resolved)))\n",
    "    ips=[]\n",
    "    isp=[]\n",
    "    isporg=[]\n",
    "    resolved=[]\n",
    "    \n",
    "    print (type(ips_to_resolve))\n",
    "    for ip in ips_to_resolve:\n",
    "        \n",
    "        if (ip in ips_to_be_resolved):\n",
    "            print ('already resolved, ignoring')\n",
    "        else:\n",
    "            page = 'http://ip-api.com/json/'+ip        \n",
    "            print ('\\tresolving ', page)\n",
    "\n",
    "            response = requests.get(page)\n",
    "\n",
    "            # Get the response data as a python object. Verify that it's a dictionary.\n",
    "            data = response.json()\n",
    "\n",
    "            ips.append(ip)\n",
    "            isp.append(data['isp'])\n",
    "            isporg.append(data['org'])\n",
    "            resolved.append('Y')\n",
    "        \n",
    "    ip_isp_df = pd.DataFrame(data=list(zip(ips, isp, isporg, resolved)), columns=['IP','ISP','ISP-ORG','Resolved'])\n",
    "    return ip_isp_df\n",
    "\n",
    "#read ip address to resolve\n",
    "ips_to_be_resolved = read_IPs_to_resolve()\n",
    "ips_to_be_resolved = ips_to_be_resolved.tolist()\n",
    "\n",
    "#resolve ips to isp and their org\n",
    "df = resolve_isps(ips_to_be_resolved)        \n",
    "\n",
    "#persist data to disk (mapping table)\n",
    "df.to_csv('resolved_isps.csv')\n",
    "\n",
    "df.head()"
   ]
  },
  {
   "cell_type": "code",
   "execution_count": null,
   "metadata": {},
   "outputs": [],
   "source": []
  },
  {
   "cell_type": "code",
   "execution_count": null,
   "metadata": {},
   "outputs": [],
   "source": []
  }
 ],
 "metadata": {
  "kernelspec": {
   "display_name": "Python 3",
   "language": "python",
   "name": "python3"
  },
  "language_info": {
   "codemirror_mode": {
    "name": "ipython",
    "version": 3
   },
   "file_extension": ".py",
   "mimetype": "text/x-python",
   "name": "python",
   "nbconvert_exporter": "python",
   "pygments_lexer": "ipython3",
   "version": "3.7.6"
  }
 },
 "nbformat": 4,
 "nbformat_minor": 2
}
